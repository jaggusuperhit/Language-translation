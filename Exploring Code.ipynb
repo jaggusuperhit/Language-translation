{
 "cells": [
  {
   "cell_type": "markdown",
   "id": "dddc2b87",
   "metadata": {},
   "source": [
    "#  Language Translation \n",
    "\n",
    "\n",
    "Language translation is the process of converting text or speech from one language to another while preserving its meaning and context. This involves using linguistic and computational techniques to interpret the source language and generate the equivalent content in the target language. Modern translation methods often employ machine learning models and neural networks for accuracy and fluency.\n",
    "\n",
    "\n",
    "\n",
    "# We have two problems\n",
    "\n",
    "\n",
    "# First Problem: Language Detection \n",
    "\n",
    "The first problem is to know how you can detect language for particular data. In this case, you can use a simple python package called langdetect.\n",
    "\n",
    "\n",
    "supports 55 languages\n",
    "\n",
    "af, ar, bg, bn, ca, cs, cy, da, de, el, en, es, et, fa, fi, fr, gu, he,\n",
    "hi, hr, hu, id, it, ja, kn, ko, lt, lv, mk, ml, mr, ne, nl, no, pa, pl,\n",
    "pt, ro, ru, sk, sl, so, sq, sv, sw, ta, te, th, tl, tr, uk, ur, vi, zh-cn, zh-tw\n",
    "\n",
    "\n",
    "pip install langdetect\n",
    "\n",
    "\n",
    "\n",
    "# Second Problem: Language Translation\n",
    "\n",
    "\n",
    "The second problem you need to solve is to translate a text from one language to the language of your choice. In this case, you will use another useful python package called google_trans_new.\n",
    "\n",
    "\n",
    "google_trans_new is a free and unlimited python package that implemented Google Translate API and It also performs auto language detection.\n",
    "\n",
    "Install google_trans_new\n",
    "\n",
    "\n",
    "but it has some issues so we will use alternatives....\n",
    "\n",
    "\n",
    "pip install googletrans==4.0.0-rc1\n",
    "\n",
    "\n",
    "\n"
   ]
  },
  {
   "cell_type": "markdown",
   "id": "a3e5ffc9",
   "metadata": {},
   "source": [
    "# Language Detection"
   ]
  },
  {
   "cell_type": "code",
   "execution_count": 6,
   "id": "72f26982",
   "metadata": {},
   "outputs": [
    {
     "name": "stdout",
     "output_type": "stream",
     "text": [
      "Detect Language : en\n",
      "Probability  [en:0.9999969246100584]\n"
     ]
    }
   ],
   "source": [
    "from langdetect import detect,detect_langs,DetectorFactory\n",
    "DetectorFactory.seed = 0\n",
    "\n",
    "\n",
    "sentence = \"India is great\"\n",
    "\n",
    "print(\"Detect Language :\", detect(sentence))\n",
    "print(\"Probability \",detect_langs(sentence))"
   ]
  },
  {
   "cell_type": "code",
   "execution_count": 7,
   "id": "6f877aa4",
   "metadata": {},
   "outputs": [
    {
     "name": "stdout",
     "output_type": "stream",
     "text": [
      "Detect Language: hi\n",
      "Probability: [hi:0.9999977479090416]\n"
     ]
    }
   ],
   "source": [
    "sentence = \"आज का दिन बहुत खूबसूरत है\"\n",
    "\n",
    "print(\"Detect Language:\", detect(sentence))\n",
    "print(\"Probability:\", detect_langs(sentence))"
   ]
  },
  {
   "cell_type": "code",
   "execution_count": 8,
   "id": "16aed43a",
   "metadata": {},
   "outputs": [
    {
     "name": "stdout",
     "output_type": "stream",
     "text": [
      "Detect Language: en\n",
      "Probability: [en:0.9999970122854229]\n"
     ]
    }
   ],
   "source": [
    "sentence = \"it is very pleasant today\"\n",
    "\n",
    "print(\"Detect Language:\", detect(sentence))\n",
    "print(\"Probability:\", detect_langs(sentence))"
   ]
  },
  {
   "cell_type": "markdown",
   "id": "8c7ddee3",
   "metadata": {},
   "source": [
    "# Language Translation"
   ]
  },
  {
   "cell_type": "code",
   "execution_count": 9,
   "id": "e5d6ad35",
   "metadata": {},
   "outputs": [
    {
     "name": "stdout",
     "output_type": "stream",
     "text": [
      "Mumbai est capitale financière de l'Inde\n"
     ]
    }
   ],
   "source": [
    "from deep_translator import GoogleTranslator\n",
    "\n",
    "translator = GoogleTranslator(source='auto', target='fr')  # Translate to French\n",
    "sentence = \"Mumbai is financial capital of India\"\n",
    "translation = translator.translate(sentence)\n",
    "print(translation)"
   ]
  },
  {
   "cell_type": "code",
   "execution_count": 10,
   "id": "5e767b24",
   "metadata": {},
   "outputs": [],
   "source": [
    "# from googletrans import Translator\n",
    "\n",
    "# translator = Translator()\n",
    "\n",
    "# sentence = \"Mumbai is financial capital of India\"\n",
    "# translate_text = translator.translate(sentence, src='ur', dest='en')\n",
    "\n",
    "# print(\"Translated Text:\", translate_text.text)\n"
   ]
  },
  {
   "cell_type": "code",
   "execution_count": 12,
   "id": "04cc2cf1",
   "metadata": {},
   "outputs": [
    {
     "name": "stdout",
     "output_type": "stream",
     "text": [
      "Translated Text: Today is very beautiful\n"
     ]
    }
   ],
   "source": [
    "from deep_translator import GoogleTranslator\n",
    "\n",
    "translator = GoogleTranslator(source='auto', target='en')\n",
    "sentence = \"आज का दिन बहुत खूबसूरत है\"\n",
    "translate_text = translator.translate(sentence)\n",
    "print(\"Translated Text:\", translate_text)"
   ]
  },
  {
   "cell_type": "markdown",
   "id": "1272dc35",
   "metadata": {},
   "source": [
    "# Detections and translation both"
   ]
  },
  {
   "cell_type": "code",
   "execution_count": null,
   "id": "0a3d3af4",
   "metadata": {},
   "outputs": [],
   "source": [
    "from langdetect import detect\n",
    "from deep_translator import GoogleTranslator\n",
    "\n",
    "def detect_and_translate(text, target_lang):\n",
    "    # Detect language\n",
    "    result_lang = detect(text)\n",
    "    \n",
    "    # Translate language\n",
    "    translator = GoogleTranslator()\n",
    "    translate_text = translator.translate(text, dest=target_lang).text\n",
    "\n",
    "    return result_lang, translate_text "
   ]
  },
  {
   "cell_type": "code",
   "execution_count": 17,
   "id": "d5a51d47",
   "metadata": {},
   "outputs": [
    {
     "name": "stdout",
     "output_type": "stream",
     "text": [
      "Language: hi\n",
      "Translation: Today is very beautiful\n"
     ]
    }
   ],
   "source": [
    "from langdetect import detect\n",
    "from deep_translator import GoogleTranslator\n",
    "\n",
    "def detect_and_translate(text, target_lang):\n",
    "    try:\n",
    "        # Detect language\n",
    "        result_lang = detect(text)\n",
    "        \n",
    "        # Translate text\n",
    "        translator = GoogleTranslator(source=result_lang, target=target_lang)\n",
    "        translated_text = translator.translate(text)\n",
    "        \n",
    "        return result_lang, translated_text\n",
    "    \n",
    "    except Exception as e:\n",
    "        return None, str(e)\n",
    "\n",
    "# Sample sentence in Hindi\n",
    "sentence = \"आज का दिन बहुत खूबसूरत है\"\n",
    "\n",
    "# Detect and translate\n",
    "result_lang, translate_text = detect_and_translate(sentence, target_lang='en')\n",
    "\n",
    "print(\"Language:\", result_lang)\n",
    "print(\"Translation:\", translate_text)"
   ]
  },
  {
   "cell_type": "code",
   "execution_count": 18,
   "id": "2959e1a4",
   "metadata": {},
   "outputs": [
    {
     "name": "stdout",
     "output_type": "stream",
     "text": [
      "Language: mr\n",
      "Translation: How are you\n"
     ]
    }
   ],
   "source": [
    "# example 1\n",
    "# Sample sentence in Marathi\n",
    "sentence = \"तू कसा आहेस\"\n",
    "\n",
    "# Detect and translate\n",
    "result_lang, translate_text = detect_and_translate(sentence, target_lang='en')\n",
    "\n",
    "print(\"Language:\", result_lang)\n",
    "print(\"Translation:\", translate_text)"
   ]
  },
  {
   "cell_type": "code",
   "execution_count": 19,
   "id": "e06906db",
   "metadata": {},
   "outputs": [
    {
     "name": "stdout",
     "output_type": "stream",
     "text": [
      "Language: None\n",
      "Translation: hn --> No support for the provided language.\n",
      "Please select on of the supported languages:\n",
      "{'afrikaans': 'af', 'albanian': 'sq', 'amharic': 'am', 'arabic': 'ar', 'armenian': 'hy', 'assamese': 'as', 'aymara': 'ay', 'azerbaijani': 'az', 'bambara': 'bm', 'basque': 'eu', 'belarusian': 'be', 'bengali': 'bn', 'bhojpuri': 'bho', 'bosnian': 'bs', 'bulgarian': 'bg', 'catalan': 'ca', 'cebuano': 'ceb', 'chichewa': 'ny', 'chinese (simplified)': 'zh-CN', 'chinese (traditional)': 'zh-TW', 'corsican': 'co', 'croatian': 'hr', 'czech': 'cs', 'danish': 'da', 'dhivehi': 'dv', 'dogri': 'doi', 'dutch': 'nl', 'english': 'en', 'esperanto': 'eo', 'estonian': 'et', 'ewe': 'ee', 'filipino': 'tl', 'finnish': 'fi', 'french': 'fr', 'frisian': 'fy', 'galician': 'gl', 'georgian': 'ka', 'german': 'de', 'greek': 'el', 'guarani': 'gn', 'gujarati': 'gu', 'haitian creole': 'ht', 'hausa': 'ha', 'hawaiian': 'haw', 'hebrew': 'iw', 'hindi': 'hi', 'hmong': 'hmn', 'hungarian': 'hu', 'icelandic': 'is', 'igbo': 'ig', 'ilocano': 'ilo', 'indonesian': 'id', 'irish': 'ga', 'italian': 'it', 'japanese': 'ja', 'javanese': 'jw', 'kannada': 'kn', 'kazakh': 'kk', 'khmer': 'km', 'kinyarwanda': 'rw', 'konkani': 'gom', 'korean': 'ko', 'krio': 'kri', 'kurdish (kurmanji)': 'ku', 'kurdish (sorani)': 'ckb', 'kyrgyz': 'ky', 'lao': 'lo', 'latin': 'la', 'latvian': 'lv', 'lingala': 'ln', 'lithuanian': 'lt', 'luganda': 'lg', 'luxembourgish': 'lb', 'macedonian': 'mk', 'maithili': 'mai', 'malagasy': 'mg', 'malay': 'ms', 'malayalam': 'ml', 'maltese': 'mt', 'maori': 'mi', 'marathi': 'mr', 'meiteilon (manipuri)': 'mni-Mtei', 'mizo': 'lus', 'mongolian': 'mn', 'myanmar': 'my', 'nepali': 'ne', 'norwegian': 'no', 'odia (oriya)': 'or', 'oromo': 'om', 'pashto': 'ps', 'persian': 'fa', 'polish': 'pl', 'portuguese': 'pt', 'punjabi': 'pa', 'quechua': 'qu', 'romanian': 'ro', 'russian': 'ru', 'samoan': 'sm', 'sanskrit': 'sa', 'scots gaelic': 'gd', 'sepedi': 'nso', 'serbian': 'sr', 'sesotho': 'st', 'shona': 'sn', 'sindhi': 'sd', 'sinhala': 'si', 'slovak': 'sk', 'slovenian': 'sl', 'somali': 'so', 'spanish': 'es', 'sundanese': 'su', 'swahili': 'sw', 'swedish': 'sv', 'tajik': 'tg', 'tamil': 'ta', 'tatar': 'tt', 'telugu': 'te', 'thai': 'th', 'tigrinya': 'ti', 'tsonga': 'ts', 'turkish': 'tr', 'turkmen': 'tk', 'twi': 'ak', 'ukrainian': 'uk', 'urdu': 'ur', 'uyghur': 'ug', 'uzbek': 'uz', 'vietnamese': 'vi', 'welsh': 'cy', 'xhosa': 'xh', 'yiddish': 'yi', 'yoruba': 'yo', 'zulu': 'zu'}\n"
     ]
    }
   ],
   "source": [
    "# example 1\n",
    "# Sample sentence in \n",
    "sentence = \"We are living in the era of technology.\"\n",
    "# Detect and translate\n",
    "result_lang, translate_text = detect_and_translate(sentence, target_lang='hn')\n",
    "\n",
    "print(\"Language:\", result_lang)\n",
    "print(\"Translation:\", translate_text)"
   ]
  }
 ],
 "metadata": {
  "kernelspec": {
   "display_name": "myenv",
   "language": "python",
   "name": "python3"
  },
  "language_info": {
   "codemirror_mode": {
    "name": "ipython",
    "version": 3
   },
   "file_extension": ".py",
   "mimetype": "text/x-python",
   "name": "python",
   "nbconvert_exporter": "python",
   "pygments_lexer": "ipython3",
   "version": "3.11.9"
  }
 },
 "nbformat": 4,
 "nbformat_minor": 5
}
